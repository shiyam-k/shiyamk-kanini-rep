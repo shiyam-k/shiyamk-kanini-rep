{
 "cells": [
  {
   "cell_type": "code",
   "execution_count": 3,
   "id": "14d41c6c-85e7-4a26-b795-67b3fabe0388",
   "metadata": {},
   "outputs": [
    {
     "name": "stdout",
     "output_type": "stream",
     "text": [
      "10\n",
      "<class 'int'>\n"
     ]
    }
   ],
   "source": [
    "a = 10\n",
    "print(a)\n",
    "print(type(a))"
   ]
  },
  {
   "cell_type": "code",
   "execution_count": 5,
   "id": "4edb59e1-a5cf-481f-bc1b-7ce3174e823b",
   "metadata": {},
   "outputs": [
    {
     "name": "stdout",
     "output_type": "stream",
     "text": [
      "you got : 1\n",
      "you got : 2\n",
      "you got : 3\n",
      "you got : 4\n",
      "you got : 5\n",
      "you got : 6\n",
      "you got : 7\n",
      "you got : 8\n",
      "you got : 9\n"
     ]
    }
   ],
   "source": [
    "list = [1,2,3,4,5,6,7,8,9]\n",
    "for item in list :\n",
    "    print(\"you got : \" + str(item));"
   ]
  },
  {
   "cell_type": "code",
   "execution_count": null,
   "id": "f02ac9ac-78f7-4fdf-86c4-892515e43bd3",
   "metadata": {},
   "outputs": [],
   "source": []
  },
  {
   "cell_type": "code",
   "execution_count": null,
   "id": "47bbb360-00f2-47c5-b556-70686a1a3599",
   "metadata": {},
   "outputs": [],
   "source": []
  },
  {
   "cell_type": "code",
   "execution_count": null,
   "id": "8c8d8c12-e24f-49a2-9cda-8bc7244e914b",
   "metadata": {},
   "outputs": [],
   "source": []
  }
 ],
 "metadata": {
  "kernelspec": {
   "display_name": "Python 3 (ipykernel)",
   "language": "python",
   "name": "python3"
  },
  "language_info": {
   "codemirror_mode": {
    "name": "ipython",
    "version": 3
   },
   "file_extension": ".py",
   "mimetype": "text/x-python",
   "name": "python",
   "nbconvert_exporter": "python",
   "pygments_lexer": "ipython3",
   "version": "3.11.4"
  }
 },
 "nbformat": 4,
 "nbformat_minor": 5
}
